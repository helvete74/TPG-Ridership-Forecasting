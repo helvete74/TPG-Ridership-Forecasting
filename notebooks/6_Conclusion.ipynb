{
 "cells": [
  {
   "cell_type": "markdown",
   "id": "88dce25e-823d-494d-8ead-8a23b48cd114",
   "metadata": {},
   "source": [
    "# General Conclusion"
   ]
  },
  {
   "cell_type": "markdown",
   "id": "a688846b-6d66-4608-a984-635436e80496",
   "metadata": {},
   "source": [
    "The objective of this project was to predict passenger ridership on the Geneva Public Transport (TPG) network using open data, complemented by contextual variables such as weather and calendar information.  \n",
    "\n",
    "## Two-Level Methodology\n",
    "\n",
    "The approach was structured into two complementary parts:  \n",
    "- **Global level**: modeling daily ridership aggregated across the entire network, with a comparison of several Machine Learning models.  \n",
    "- **Local level**: application on a specific stop and line, in order to illustrate the operational applicability of the results.  \n",
    "\n",
    "## Main Results\n",
    "\n",
    "The data exploration highlighted clear temporal patterns:  \n",
    "- a strong weekly effect (significant difference between weekdays and weekends),  \n",
    "- the influence of holiday periods and public holidays,  \n",
    "- a strong correlation with past values (lags and rolling means).  \n",
    "\n",
    "Regarding the models:  \n",
    "- **Random Forest** proved to be the most accurate, but at the cost of very high computational requirements.  \n",
    "- **Ridge Regression** delivered nearly equivalent results, with the advantage of being simple, interpretable, and resource-efficient. This is why it was chosen for the local case study.  \n",
    "- **Decision Trees** and **k-NN** provided correct but slightly lower performance.  \n",
    "- **Classic Neural Networks (MLP)** were not well suited to this problem and showed poor results.  \n",
    "\n",
    "The feature importance analysis confirmed that temporal factors (day of the week, weekends, holidays) and historical ridership values (lags, rolling means) are key drivers. Weather, by contrast, only had a marginal secondary effect.  \n",
    "\n",
    "## Contributions and Perspectives\n",
    "\n",
    "This project demonstrates that predicting daily TPG ridership with satisfactory accuracy is feasible using relatively classical Machine Learning models. The proposed methodology is reproducible, robust, and adaptable to other transport networks.  \n",
    "\n",
    "Several avenues for improvement are possible:  \n",
    "- integrating **real-time data** (disruptions, exceptional events),  \n",
    "- refining the local analysis, for example by working with **hourly segments** or focusing on strategic stops such as train stations.  \n",
    "\n",
    "In conclusion, this study confirms the importance of temporal factors in urban mobility and demonstrates the relevance of Machine Learning approaches to anticipate public transport demand.  \n"
   ]
  },
  {
   "cell_type": "markdown",
   "id": "189167aa-0892-4e45-8596-e2c2b4f93b24",
   "metadata": {},
   "source": [
    "## Personal Contribution\n",
    "\n",
    "This project also gave me the opportunity to experiment with different models, face concrete computational constraints, and confirm the importance of a pragmatic approach to modeling. I also realized that there are always further opportunities for improvement or optimization, but at some point it is necessary to conclude the work.  "
   ]
  }
 ],
 "metadata": {
  "kernelspec": {
   "display_name": "Python [conda env:adsml] *",
   "language": "python",
   "name": "conda-env-adsml-py"
  },
  "language_info": {
   "codemirror_mode": {
    "name": "ipython",
    "version": 3
   },
   "file_extension": ".py",
   "mimetype": "text/x-python",
   "name": "python",
   "nbconvert_exporter": "python",
   "pygments_lexer": "ipython3",
   "version": "3.9.18"
  }
 },
 "nbformat": 4,
 "nbformat_minor": 5
}
